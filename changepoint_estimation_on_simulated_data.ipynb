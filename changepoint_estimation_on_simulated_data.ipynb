{
 "cells": [
  {
   "cell_type": "code",
   "execution_count": 1,
   "metadata": {},
   "outputs": [],
   "source": [
    "import PyChest\n",
    "import numpy as np\n",
    "import matplotlib.pyplot as plt"
   ]
  },
  {
   "cell_type": "code",
   "execution_count": null,
   "metadata": {},
   "outputs": [],
   "source": [
    "#se baser sur EconomicsSante, les coûts Y_ij sont déterminés à l'aide de CostVisitSimTest (l'élément z)\n",
    "# le alpha de notre premier modèle et p_alpha du second modèle de EconomicsSante (le premier modèle de EconomicsSante correspond à notre second, càd que dans EconomicsSante d'abord on regarde)\n",
    "# Selon les paramètres de Simbipartite, il peut y avoir plusieurs lignes pour le patient i avec des docteurs j différents. Il peut également y avoir certains patients qui n'ont aucune connexion\n",
    "# avec un docteur: problème ? si on veut regarder l'évolution de alpha_i dans le temps, il faudrait relancer la simulation T temps, mais si la simulation ne considère pas que chaque patient\n",
    "# voit au moins un docteur, on peut ne peut pas avoir l'évolution d'un alpha_i(t) pour t € [[1, T]] pour toutes les périodes de temps.\n",
    "# SimbipartiteTest: S'occupe de créer les connexions entre les patients i et les docteurs j, il est possible que certains patients ne voient aucun docteur (donc difficile d'obtenirs ces alpha_i* la)\n",
    "# Le dataframe renvoyé contient les connexions patients/docteurs existantes. Une connexion est créée si la distance entre le patient i et le patient j est \n",
    "# supérieure à une certaine distance z (pas logique ? ça devrait être l'inverse).\n",
    "# SimbipartiteTest: alpha_i* et psi_j* (alpha et psi dans le code)\n",
    "# CostVisitSimTest: se base sur les connexions obtenues par SimbipartisteTest. Calcule les coûts Y_ij pour les patients/docteurs connectés.\n",
    "# CostVisitSimtest: alpha_i et psi_j (p_alpha et p_psi dans le code)\n",
    "# Le problème: si on veut créer une suite alpha_i indexé dans le temps par exemple, il faudrait qu'il y ait toujours au moins une connexion pour chaque patient, pour que le alpha_i soit effectivement\n",
    "# calculé en chaque période de temps. La solution: regarder directement comment sont générés les alpha_i, les générer de manière externe (créer juste un nouveau code), et observer s'il est possible\n",
    "# ou non de trouver des points de rupture. Sinon on peut modifier le paramètre de distance z (en le fixant à 0) qui décide si oui ou non la connexion doit être créé, mais dans ce cas chaque patient\n",
    "# sera connecté à tous les docteurs.\n",
    "# Les quatre coefficients alpha_i (p_alpha) sont tous générés selon une uniforme([-2, -1]). Donc pas de changement de distribution, donc il ne sera pas possible de détecter de points de rupture..\n"
   ]
  }
 ],
 "metadata": {
  "kernelspec": {
   "display_name": "stage2a",
   "language": "python",
   "name": "python3"
  },
  "language_info": {
   "codemirror_mode": {
    "name": "ipython",
    "version": 3
   },
   "file_extension": ".py",
   "mimetype": "text/x-python",
   "name": "python",
   "nbconvert_exporter": "python",
   "pygments_lexer": "ipython3",
   "version": "3.11.3"
  },
  "orig_nbformat": 4
 },
 "nbformat": 4,
 "nbformat_minor": 2
}
